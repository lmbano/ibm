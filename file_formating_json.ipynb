{
 "cells": [
  {
   "cell_type": "markdown",
   "id": "06e1b576-2e8c-4554-b7db-6908b57ad26b",
   "metadata": {},
   "source": [
    "\n",
    "## JSON file format Reading and writing\n"
   ]
  },
  {
   "cell_type": "code",
   "execution_count": 1,
   "id": "66d8d689-301c-43c3-85f6-cf0ba5a33f3f",
   "metadata": {},
   "outputs": [],
   "source": [
    "import json\n",
    "person = {\n",
    "    'first_name' : 'Mark',\n",
    "    'last_name' : 'abc',\n",
    "    'age' : 27,\n",
    "    'address': {\n",
    "        \"streetAddress\": \"21 2nd Street\",\n",
    "        \"city\": \"New York\",\n",
    "        \"state\": \"NY\",\n",
    "        \"postalCode\": \"10021-3100\"\n",
    "    }\n",
    "}\n"
   ]
  },
  {
   "cell_type": "code",
   "execution_count": 2,
   "id": "cc7c3ec5-44c8-4550-993d-d6e85a11d9de",
   "metadata": {},
   "outputs": [],
   "source": [
    "with open('person.json', 'w') as f:  # writing JSON object\n",
    "    json.dump(person, f)"
   ]
  },
  {
   "cell_type": "code",
   "execution_count": 3,
   "id": "060d4286-1d6a-4892-8d07-b810e2a0776f",
   "metadata": {},
   "outputs": [],
   "source": [
    "# Serializing json  \n",
    "json_object = json.dumps(person, indent = 4) \n",
    "  \n",
    "# Writing to sample.json \n",
    "with open(\"sample.json\", \"w\") as outfile: \n",
    "    outfile.write(json_object) \n",
    "\n"
   ]
  },
  {
   "cell_type": "code",
   "execution_count": 4,
   "id": "2edf5272-4e59-4703-8250-7c8b5f65c8c3",
   "metadata": {},
   "outputs": [
    {
     "name": "stdout",
     "output_type": "stream",
     "text": [
      "{'first_name': 'Mark', 'last_name': 'abc', 'age': 27, 'address': {'streetAddress': '21 2nd Street', 'city': 'New York', 'state': 'NY', 'postalCode': '10021-3100'}}\n",
      "<class 'dict'>\n"
     ]
    }
   ],
   "source": [
    "# Opening JSON file \n",
    "with open('sample.json', 'r') as openfile: \n",
    "  \n",
    "    # Reading from json file \n",
    "    json_object = json.load(openfile) \n",
    "  \n",
    "print(json_object) \n",
    "print(type(json_object)) \n"
   ]
  },
  {
   "cell_type": "markdown",
   "id": "dab281dc-bc66-4259-ab45-8471ee09d905",
   "metadata": {},
   "source": [
    "## XML file format Reading and writing"
   ]
  },
  {
   "cell_type": "code",
   "execution_count": 5,
   "id": "9801acae-d5c4-465b-be52-92f6889d789c",
   "metadata": {},
   "outputs": [],
   "source": [
    "import xml.etree.ElementTree as ET\n"
   ]
  },
  {
   "cell_type": "code",
   "execution_count": 6,
   "id": "d97716d3-b15b-475b-afa6-aecebbba21be",
   "metadata": {},
   "outputs": [],
   "source": [
    "# create the file structure\n",
    "employee = ET.Element('employee')\n",
    "details = ET.SubElement(employee, 'details')\n",
    "first = ET.SubElement(details, 'firstname')\n",
    "second = ET.SubElement(details, 'lastname')\n",
    "third = ET.SubElement(details, 'age')\n",
    "first.text = 'Shiv'\n",
    "second.text = 'Mishra'\n",
    "third.text = '23'"
   ]
  },
  {
   "cell_type": "code",
   "execution_count": 7,
   "id": "b6cbf6bd-3b45-4200-a8a4-bc023dc3189a",
   "metadata": {},
   "outputs": [],
   "source": [
    "# create a new XML file with the results\n",
    "mydata1 = ET.ElementTree(employee)\n",
    "# myfile = open(\"items2.xml\", \"wb\")\n",
    "# myfile.write(mydata)\n",
    "with open(\"new_sample.xml\", \"wb\") as files:\n",
    "    mydata1.write(files)\n"
   ]
  },
  {
   "cell_type": "code",
   "execution_count": 8,
   "id": "ddeb7142-e45a-4915-8933-233b2adab060",
   "metadata": {},
   "outputs": [
    {
     "name": "stderr",
     "output_type": "stream",
     "text": [
      "'wget' is not recognized as an internal or external command,\n",
      "operable program or batch file.\n"
     ]
    }
   ],
   "source": [
    "# Not needed unless running locally\n",
    "!wget https://cf-courses-data.s3.us.cloud-object-storage.appdomain.cloud/IBMDeveloperSkillsNetwork-PY0101EN-SkillsNetwork/labs/Module%205/data/Sample-employee-XML-file.xml\n",
    "\n"
   ]
  },
  {
   "cell_type": "code",
   "execution_count": 9,
   "id": "4c5a4901-26a5-41b2-9cc0-94c3e3ea7897",
   "metadata": {},
   "outputs": [],
   "source": [
    "import xml.etree.ElementTree as etree"
   ]
  },
  {
   "cell_type": "code",
   "execution_count": 10,
   "id": "abad983b-8405-46d9-bdba-60057028cb44",
   "metadata": {},
   "outputs": [],
   "source": [
    "filename = \"https://cf-courses-data.s3.us.cloud-object-storage.appdomain.cloud/IBMDeveloperSkillsNetwork-PY0101EN-SkillsNetwork/labs/Module%205/data/Sample-employee-XML-file.xml\""
   ]
  },
  {
   "cell_type": "code",
   "execution_count": 17,
   "id": "b49c8c82-8e05-48a3-8228-ea06518dd3fb",
   "metadata": {},
   "outputs": [],
   "source": [
    "async def download(url, filename):\n",
    "    response = await pyfetch(url)\n",
    "    if response.status == 200:\n",
    "        with open(filename, \"wb\") as f:\n",
    "            f.write(await response.bytes())\n",
    "            await download(filename, \"Sample-employee-XML-file.xml\")\n"
   ]
  },
  {
   "cell_type": "code",
   "execution_count": null,
   "id": "b2a3373f-d9cb-4f1b-97e3-ec73adb1446c",
   "metadata": {},
   "outputs": [],
   "source": [
    "import matplotlib.pyplot as plt\n",
    "import seaborn as sns"
   ]
  },
  {
   "cell_type": "code",
   "execution_count": null,
   "id": "08f6425b-a793-475b-a2b5-d66bbad64283",
   "metadata": {},
   "outputs": [],
   "source": [
    "labels= 'Not Diabetic','Diabetic'\n",
    "plt.pie(df['Outcome'].value_counts(),labels=labels,autopct='%0.02f%%')\n",
    "plt.legend()\n",
    "plt.show()"
   ]
  }
 ],
 "metadata": {
  "kernelspec": {
   "display_name": "Python 3 (ipykernel)",
   "language": "python",
   "name": "python3"
  },
  "language_info": {
   "codemirror_mode": {
    "name": "ipython",
    "version": 3
   },
   "file_extension": ".py",
   "mimetype": "text/x-python",
   "name": "python",
   "nbconvert_exporter": "python",
   "pygments_lexer": "ipython3",
   "version": "3.11.5"
  }
 },
 "nbformat": 4,
 "nbformat_minor": 5
}
